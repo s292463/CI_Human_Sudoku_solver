{
 "cells": [
  {
   "cell_type": "markdown",
   "metadata": {},
   "source": [
    "Copyright **`(c)`** 2021 Giovanni Squillero `<squillero@polito.it>`  \n",
    "`https://github.com/squillero/computational-intelligence`  \n",
    "Free for personal or classroom use; see 'LICENCE.md' for details."
   ]
  },
  {
   "cell_type": "code",
   "execution_count": 1,
   "metadata": {},
   "outputs": [],
   "source": [
    "import logging\n",
    "from collections import deque\n",
    "from pprint import pprint\n",
    "import numpy as np\n",
    "\n",
    "logging.basicConfig(format='[%(asctime)s] %(levelname)s: %(message)s', datefmt='%H:%M:%S', level=logging.INFO)"
   ]
  },
  {
   "cell_type": "code",
   "execution_count": 2,
   "metadata": {},
   "outputs": [],
   "source": [
    "def _contains_duplicates(X):\n",
    "    return np.sum(np.unique(X)) != np.sum(X)\n",
    "\n",
    "def contains_duplicates(sol):\n",
    "    return any(_contains_duplicates(sol[r,:]) for r in range(9)) or \\\n",
    "           any(_contains_duplicates(sol[:,r]) for r in range(9)) or \\\n",
    "           any(_contains_duplicates(sol[r:r+3:,c:c+3]) for r in range(0,9,3) for c in range(0,9,3))\n",
    "\n",
    "def valid_solution(sol):\n",
    "    return not contains_duplicates(sol) and np.sum(sol) == (1+2+3+4+5+6+7+8+9) * 9\n",
    "\n",
    "def print_sudoku(sudoku):\n",
    "    print(\"+-------+-------+-------+\")\n",
    "    for b in range(0, 9, 3):\n",
    "        for r in range(3):\n",
    "            print(\"|\", \" | \".join(\" \".join(str(_) for _ in sudoku[b+r, c:c+3]) for c in range(0, 9, 3)), \"|\")\n",
    "        print(\"+-------+-------+-------+\")"
   ]
  },
  {
   "cell_type": "code",
   "execution_count": 3,
   "metadata": {},
   "outputs": [],
   "source": [
    "def dfsolve(sudoku):\n",
    "    \"\"\"Vanilla depth-first solver for sudoku puzzles\"\"\"\n",
    "    frontier = deque([sudoku.copy()])\n",
    "    num_nodes = 0\n",
    "    while frontier:\n",
    "        node = frontier.popleft()\n",
    "        num_nodes += 1\n",
    "\n",
    "        if valid_solution(node):\n",
    "            logging.info(f\"Solved after expanding {num_nodes:,} nodes\")\n",
    "            return node\n",
    "\n",
    "        for i, j in zip(*np.where(node == 0)):\n",
    "            for c in range(1, 10):\n",
    "                node[i, j] = c\n",
    "                if not contains_duplicates(node):\n",
    "                    frontier.appendleft(node.copy())\n",
    "    logging.info(f\"Giving up after expanding {num_nodes:,} nodes\")\n",
    "    return None"
   ]
  },
  {
   "cell_type": "code",
   "execution_count": 4,
   "metadata": {},
   "outputs": [],
   "source": [
    "simple_sudoku = np.array([[6, 0, 4,    0, 7, 0,    0, 0, 1],\n",
    "                          [0, 5, 0,    0, 0, 0,    0, 7, 0], \n",
    "                          [7, 0, 0,    5, 9, 6,    8, 3, 4], \n",
    "       \n",
    "                          [0, 8, 0,    0, 0, 2,    4, 9, 0], \n",
    "                          [1, 0, 0,    0, 0, 0,    0, 0, 3], \n",
    "                          [0, 6, 9,    7, 0, 0,    0, 5, 0], \n",
    "       \n",
    "                          [9, 1, 8,    3, 6, 7,    0, 0, 5], \n",
    "                          [0, 4, 0,    0, 0, 0,    0, 6, 0], \n",
    "                          [2, 0, 0,    0, 5, 0,    7, 0, 8]], dtype=np.int8)"
   ]
  },
  {
   "cell_type": "code",
   "execution_count": 5,
   "metadata": {},
   "outputs": [],
   "source": [
    "def sudoku_generator(sudokus=1, *, kappa=5, random_seed=None):\n",
    "    if random_seed:\n",
    "        np.random.seed(random_seed)\n",
    "    for puzzle in range(sudokus):\n",
    "        sudoku = np.zeros((9, 9), dtype=np.int8)\n",
    "        for cell in range(np.random.randint(kappa)):\n",
    "            for p, val in zip(np.random.randint(0, 8, size=(9, 2)), range(1, 10)):\n",
    "                tmp = sudoku.copy()\n",
    "                sudoku[tuple(p)] = val\n",
    "                if contains_duplicates(sudoku):\n",
    "                    sudoku = tmp\n",
    "        yield sudoku.copy()"
   ]
  },
  {
   "cell_type": "code",
   "execution_count": 6,
   "metadata": {},
   "outputs": [
    {
     "name": "stdout",
     "output_type": "stream",
     "text": [
      "+-------+-------+-------+\n",
      "| 0 0 1 | 0 0 0 | 0 0 0 |\n",
      "| 0 0 0 | 0 0 0 | 0 3 0 |\n",
      "| 0 0 6 | 8 0 0 | 5 2 0 |\n",
      "+-------+-------+-------+\n",
      "| 9 7 0 | 4 0 0 | 0 8 0 |\n",
      "| 6 0 0 | 0 3 0 | 1 0 0 |\n",
      "| 0 0 0 | 0 8 6 | 0 0 0 |\n",
      "+-------+-------+-------+\n",
      "| 0 4 0 | 9 0 0 | 0 0 0 |\n",
      "| 0 0 9 | 5 7 0 | 0 0 0 |\n",
      "| 0 0 0 | 0 0 0 | 0 0 0 |\n",
      "+-------+-------+-------+\n"
     ]
    },
    {
     "name": "stderr",
     "output_type": "stream",
     "text": [
      "[10:04:19] INFO: Solved after expanding 1,735 nodes\n"
     ]
    },
    {
     "name": "stdout",
     "output_type": "stream",
     "text": [
      "+-------+-------+-------+\n",
      "| 8 9 1 | 3 5 2 | 7 6 4 |\n",
      "| 7 5 2 | 6 4 1 | 9 3 8 |\n",
      "| 4 3 6 | 8 9 7 | 5 2 1 |\n",
      "+-------+-------+-------+\n",
      "| 9 7 3 | 4 1 5 | 6 8 2 |\n",
      "| 6 8 5 | 2 3 9 | 1 4 7 |\n",
      "| 2 1 4 | 7 8 6 | 3 9 5 |\n",
      "+-------+-------+-------+\n",
      "| 1 4 7 | 9 6 8 | 2 5 3 |\n",
      "| 3 2 9 | 5 7 4 | 8 1 6 |\n",
      "| 5 6 8 | 1 2 3 | 4 7 9 |\n",
      "+-------+-------+-------+\n"
     ]
    }
   ],
   "source": [
    "for sudoku in sudoku_generator(random_seed=42):\n",
    "    print_sudoku(sudoku)\n",
    "    solution = dfsolve(sudoku)\n",
    "    if solution is not None:\n",
    "        print_sudoku(solution)"
   ]
  },
  {
   "cell_type": "code",
   "execution_count": null,
   "metadata": {},
   "outputs": [],
   "source": []
  }
 ],
 "metadata": {
  "interpreter": {
   "hash": "371627151b0642f6c185c280fa16312776bda89bbb063ce0f2d8135c657194f4"
  },
  "kernelspec": {
   "display_name": "Python 3.8.2 64-bit ('ci2021': conda)",
   "name": "python3"
  },
  "language_info": {
   "codemirror_mode": {
    "name": "ipython",
    "version": 3
   },
   "file_extension": ".py",
   "mimetype": "text/x-python",
   "name": "python",
   "nbconvert_exporter": "python",
   "pygments_lexer": "ipython3",
   "version": "3.8.2"
  },
  "orig_nbformat": 4
 },
 "nbformat": 4,
 "nbformat_minor": 2
}
